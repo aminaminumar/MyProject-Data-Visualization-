{
 "cells": [
  {
   "cell_type": "code",
   "execution_count": 2,
   "metadata": {},
   "outputs": [],
   "source": [
    "# creating a die class\n",
    "import random\n",
    "class Die():\n",
    "    def __init__(self, num_sides = 6):\n",
    "        # assume a six sided die\n",
    "        self.num_sides = num_sides\n",
    "\n",
    "    def Roll(self):\n",
    "        \"\"\"generate random number between 1 and num of sides\"\"\"\n",
    "        return random.randint(1, self.num_sides)\n"
   ]
  },
  {
   "cell_type": "code",
   "execution_count": 12,
   "metadata": {},
   "outputs": [
    {
     "name": "stdout",
     "output_type": "stream",
     "text": [
      "[6, 5, 2, 6, 3, 5, 1, 3, 4, 1, 4, 5, 2, 6, 3, 6, 2, 6, 1, 3, 2, 6, 3, 3, 2, 3, 1, 3, 1, 2, 3, 4, 2, 4, 1, 3, 4, 2, 1, 5, 3, 3, 1, 5, 3, 1, 6, 4, 6, 2, 6, 5, 2, 2, 5, 1, 2, 4, 2, 6, 2, 4, 4, 3, 4, 4, 6, 3, 5, 5, 3, 2, 4, 5, 6, 3, 1, 5, 3, 6, 5, 4, 5, 6, 4, 4, 1, 1, 4, 2, 1, 3, 6, 3, 4, 2, 1, 1, 6, 5]\n",
      " [16, 17, 20, 17, 14, 16]\n"
     ]
    }
   ],
   "source": [
    "# creating a D6 die\n",
    "\n",
    "D6 = Die()\n",
    "\n",
    "# make some rolls and store the result in a list\n",
    "results = []\n",
    "for rollnum in range(100):\n",
    "    result = D6.Roll()\n",
    "    results.append(result)\n",
    "\n",
    "print(f\"{results}\")\n",
    "\n",
    "# now analyze the result\n",
    "frequency = []\n",
    "for value in range(1, D6.num_sides +1):\n",
    "    freq = results.count(value)\n",
    "    frequency.append(freq)\n",
    "\n",
    "print(f\" {frequency}\")"
   ]
  },
  {
   "cell_type": "code",
   "execution_count": 17,
   "metadata": {},
   "outputs": [],
   "source": [
    "import pygal\n",
    "\n",
    "# visualize the results in a histogram\n",
    "hist = pygal.Bar()\n",
    "\n",
    "hist.title = 'result of rolling a D6 die 100 times'\n",
    "hist.x_labels = ['1', '2', '3', '4', '5', '6']\n",
    "hist.x_title = 'results'\n",
    "hist.y_title = 'frequency of result'\n",
    "\n",
    "hist.add('D6', frequency)\n",
    "hist.render_to_file('Die_visual.svg')\n"
   ]
  },
  {
   "cell_type": "code",
   "execution_count": 18,
   "metadata": {},
   "outputs": [],
   "source": [
    "# now create a two D6 die\n",
    "die1 = Die()\n",
    "die2 = Die()\n",
    "\n",
    "# make some rolls and store the result in a list\n",
    "results = []\n",
    "for rollnum in range(1000):\n",
    "    result = die1.Roll() + die2.Roll()\n",
    "    results.append(result)\n",
    "# analize the result\n",
    "frequency = []\n",
    "max_result = die1.num_sides + die2.num_sides\n",
    "for value in range(2, max_result +1):\n",
    "    freq = results.count(value)\n",
    "    frequency.append(freq)\n",
    "\n",
    "# visualize the results in a histogram\n",
    "hist = pygal.Bar()\n",
    "hist_title = 'result of rolling two dice 100 times'\n",
    "hist.x_labels = ['2', '3', '4', '5', '6', '7', '8', '9', '10', '11', '12']\n",
    "hist.x_title = 'results'\n",
    "hist.y_title = 'frequency of result'\n",
    "hist.add('D6 + D6', frequency)\n",
    "hist.render_to_file('two_D6_visual.svg')"
   ]
  },
  {
   "cell_type": "code",
   "execution_count": 19,
   "metadata": {},
   "outputs": [],
   "source": [
    "# rolling different sizes of die\n",
    "# create a die with 10 sides\n",
    "die1 = Die()\n",
    "die2 = Die(10)\n",
    "\n",
    "# make some rolls and store the result in a list\n",
    "results = []\n",
    "for rollnum in range(50000):\n",
    "    result = die1.Roll() + die2.Roll()\n",
    "    results.append(result)\n",
    "# analize the result\n",
    "frequency = []\n",
    "max_result = die1.num_sides + die2.num_sides\n",
    "for value in range(2, max_result +1):\n",
    "    freq = results.count(value)\n",
    "    frequency.append(freq)\n",
    "\n",
    "# visualize the results in a histogram\n",
    "hist = pygal.Bar()\n",
    "hist_title = 'result of rolling two dice 100 times'\n",
    "hist.x_labels = ['2', '3', '4', '5', '6', '7', '8', '9', '10', '11', '12','13','14','15','16']\n",
    "hist.x_title = 'results'\n",
    "hist.y_title = 'frequency of result'\n",
    "hist.add('D6 + D10', frequency)\n",
    "hist.render_to_file('two_die_visual.svg')"
   ]
  },
  {
   "cell_type": "markdown",
   "metadata": {},
   "source": [
    "## Try It Yourse\n",
    "1. Automatic Labels: Modify die.py and dice_visual.py by replacing the list \n",
    "we used to set the value of hist.x_labels with a loop to generate this list auto\u0002matically. If you’re comfortable with list comprehensions, try replacing the other\n",
    "for loops in die_visual.py and dice_visual.py with comprehensions as well\n",
    "2. Two D8s: Create a simulation showing what happens if you roll two eight\u0002sided dice 1000 times. Increase the number of rolls gradually until you start to\n",
    "see the limits of your system’s capabilities\n",
    "3. Three Dice: If you roll three D6 dice, the smallest number you can roll is 3 \n",
    "and the largest number is 18. Create a visualization that shows what happens\n",
    "when you roll three D6 dice\n",
    "4. Multiplication: When you roll two dice, you usually add the two numbers \n",
    "together to get the result. Create a visualization that shows what happens if\n",
    "you multiply these numbers instead\n",
    "5. Practicing with Both Libraries: Try using matplotlib to make a die-rolling \n",
    "visualization, and use Pygal to make the visualization for a random walk\n"
   ]
  },
  {
   "cell_type": "code",
   "execution_count": 20,
   "metadata": {},
   "outputs": [],
   "source": [
    "# 1.Automatic Labels: Modify die.py and dice_visual.py by replacing the list \n",
    "# we used to set the value of hist.x_labels with a loop to generate this list \n",
    "# automatically. If you’re comfortable with list comprehensions, try replacing the other\n",
    "# for loop with a list comprehension as well.\n",
    "# rolling different sizes of die\n",
    "# create a die with 10 sides\n",
    "die1 = Die()\n",
    "die2 = Die(10)\n",
    "\n",
    "# make some rolls and store the result in a list\n",
    "results = []\n",
    "for rollnum in range(50000):\n",
    "    result = die1.Roll() + die2.Roll()\n",
    "    results.append(result)\n",
    "# analize the result\n",
    "frequency = []\n",
    "max_result = die1.num_sides + die2.num_sides\n",
    "for value in range(2, max_result +1):\n",
    "    freq = results.count(value)\n",
    "    frequency.append(freq)\n",
    "\n",
    "# visualize the results in a histogram\n",
    "hist = pygal.Bar()\n",
    "hist_title = 'result of rolling two dice 100 times'\n",
    "# using list comprehension to generate the x_labels\n",
    "hist.x_labels = [str(x) for x in range(2, max_result + 1)]\n",
    "hist.x_title = 'results'\n",
    "hist.y_title = 'frequency of result'\n",
    "hist.add('D6 + D10', frequency)\n",
    "hist.render_to_file('two_die_visual.svg')"
   ]
  },
  {
   "cell_type": "code",
   "execution_count": 21,
   "metadata": {},
   "outputs": [],
   "source": [
    "# rolling two D8 die\n",
    "# 2. Two D8s: Create a simulation showing what happens if you roll two eightsided\n",
    "# dice 1000 times. Increase the number of rolls gradually until you start to\n",
    "# see the limits of your system’s capabilities\n",
    "\n",
    "# create a die with 8 sides\n",
    "die1 = Die(8)\n",
    "die2 = Die(8)\n",
    "\n",
    "# make some rolls and store the result in a list\n",
    "results = []\n",
    "for rollnum in range(1000):\n",
    "    result = die1.Roll() + die2.Roll()\n",
    "    results.append(result)\n",
    "# analize the result\n",
    "frequency = []\n",
    "max_result = die1.num_sides + die2.num_sides\n",
    "for value in range(2, max_result +1):\n",
    "    freq = results.count(value)\n",
    "    frequency.append(freq)\n",
    "\n",
    "# visualize the results in a histogram\n",
    "hist = pygal.Bar()\n",
    "hist_title = 'result of rolling two D8 dice 1000 times'\n",
    "# using list comprehension to generate the x_labels\n",
    "hist.x_labels = [str(x) for x in range(2, max_result + 1)]\n",
    "hist.x_title = 'results'\n",
    "hist.y_title = 'frequency of result'\n",
    "hist.add('D8 + D8', frequency)\n",
    "hist.render_to_file('two_D8_visual.svg')\n"
   ]
  },
  {
   "cell_type": "code",
   "execution_count": 24,
   "metadata": {},
   "outputs": [],
   "source": [
    "# 3. Three Dice: If you roll three D6 dice, the smallest number you can roll is 3 \n",
    "# and the largest number is 18. Create a visualization that shows what happens\n",
    "# when you roll three D6 dice\n",
    "\n",
    "D6_1 = Die()\n",
    "D6_2 = Die()\n",
    "D6_3 = Die()\n",
    "\n",
    "# make some rolls and store the result in a list\n",
    "results = []\n",
    "for rollnum in range(1000):\n",
    "    result = D6_1.Roll() + D6_2.Roll() + D6_3.Roll()\n",
    "    results.append(result) \n",
    "# analize the result\n",
    "frequency = []\n",
    "max_result = D6_1.num_sides + D6_2.num_sides + D6_3.num_sides\n",
    "for value in range(2, max_result +1):\n",
    "    freq = results.count(value)\n",
    "    frequency.append(freq)\n",
    "\n",
    "# visualize the results in a histogram\n",
    "hist = pygal.Bar()\n",
    "hist_title = 'result of rolling two D8 dice 1000 times'\n",
    "# using list comprehension to generate the x_labels\n",
    "hist.x_labels = [str(x) for x in range(2, max_result + 1)]\n",
    "hist.x_title = 'results'\n",
    "hist.y_title = 'frequency of result'\n",
    "hist.add('D6 + D6 + D6', frequency)\n",
    "hist.render_to_file('three_D6_visual.svg')\n",
    "\n"
   ]
  },
  {
   "cell_type": "code",
   "execution_count": 26,
   "metadata": {},
   "outputs": [],
   "source": [
    "# 3. Three Dice: If you roll three D6 dice, the smallest number you can roll is 3 \n",
    "# and the largest number is 18. Create a visualization that shows what happens\n",
    "# when you roll three D6 dice\n",
    "\n",
    "die1 = Die()\n",
    "die2 = Die()\n",
    "\n",
    "# make some rolls and store the result in a list\n",
    "results = []\n",
    "for rollnum in range(1000):\n",
    "    result = die1.Roll() + die2.Roll()\n",
    "    results.append(result)\n",
    "# analize the result\n",
    "frequency = []\n",
    "max_result = die1.num_sides * die2.num_sides\n",
    "for value in range(2, max_result +1):\n",
    "    freq = results.count(value)\n",
    "    frequency.append(freq)\n",
    "\n",
    "# visualize the results in a histogram\n",
    "hist = pygal.Bar()\n",
    "hist_title = 'result of rolling two dice 100 times'\n",
    "hist.x_labels = [str(x) for x in range(2, max_result + 1)]\n",
    "hist.x_title = 'results'\n",
    "hist.y_title = 'frequency of result'\n",
    "hist.add('D6 + D6', frequency)\n",
    "hist.render_to_file('two_D6_visual.svg')"
   ]
  },
  {
   "cell_type": "code",
   "execution_count": null,
   "metadata": {},
   "outputs": [],
   "source": [
    "# 5. Practicing with Both Libraries: Try using matplotlib to make a die-rolling \n",
    "# visualization, and use Pygal to make the visualization for a random walk"
   ]
  },
  {
   "cell_type": "code",
   "execution_count": 27,
   "metadata": {},
   "outputs": [
    {
     "data": {
      "image/png": "[encoded data removed]",
      "text/plain": [
       "<Figure size 640x480 with 1 Axes>"
      ]
     },
     "metadata": {},
     "output_type": "display_data"
    }
   ],
   "source": [
    "import matplotlib.pyplot as plt\n",
    "x_labels = [str(x) for x in range(2, max_result + 1)]\n",
    "plt.plot(x_labels, frequency, linewidth = 2)\n",
    "plt.show()"
   ]
  },
  {
   "cell_type": "code",
   "execution_count": 28,
   "metadata": {},
   "outputs": [
    {
     "data": {
      "text/plain": [
       "<matplotlib.collections.PathCollection at 0x2b538ba7320>"
      ]
     },
     "execution_count": 28,
     "metadata": {},
     "output_type": "execute_result"
    },
    {
     "data": {
      "image/png": "[encoded data removed]",
      "text/plain": [
       "<Figure size 640x480 with 1 Axes>"
      ]
     },
     "metadata": {},
     "output_type": "display_data"
    }
   ],
   "source": [
    "plt.scatter(x_labels, frequency, c = frequency, cmap = plt.cm.Blues, edgecolor = 'none', s = 40)"
   ]
  },
  {
   "cell_type": "code",
   "execution_count": null,
   "metadata": {},
   "outputs": [],
   "source": []
  }
 ],
 "metadata": {
  "kernelspec": {
   "display_name": "Python 3",
   "language": "python",
   "name": "python3"
  },
  "language_info": {
   "codemirror_mode": {
    "name": "ipython",
    "version": 3
   },
   "file_extension": ".py",
   "mimetype": "text/x-python",
   "name": "python",
   "nbconvert_exporter": "python",
   "pygments_lexer": "ipython3",
   "version": "3.12.4"
  }
 },
 "nbformat": 4,
 "nbformat_minor": 2
}
